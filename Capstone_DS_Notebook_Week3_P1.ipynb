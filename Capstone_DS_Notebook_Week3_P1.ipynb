{
 "cells": [
  {
   "cell_type": "markdown",
   "metadata": {},
   "source": [
    "# **IBM DATA SCIENCE CAPSTONE PROJECT**\n",
    "***\n",
    "## **Introduction**\n",
    "    Having completed the Python for data science course, the data visualization with Python course, and finally, the data analysis with Python cours it is now time to complete a capstone project.\n",
    "\n",
    "## Project Objectives\n",
    "    Say  you live on the west side of the city ofToronto in Canada. You love your neighborhood, mainly because of all the great amenities and other types of venues that exist in the neighborhood, such as gourmet fast food joints, pharmacies, parks, grad schools and so on.\n",
    "    \n",
    "    Now, say you receive a job offer from a great company on the other side of thecity with great career prospects. \n",
    "    However, given the far distance from your currentplace you  must move if you decide to accept the offer.\n",
    "    \n",
    "    Wouldn't it be great if you're able to determine neighborhoods on the other side of the city that are exactly the same as your current neighborhood or  perhaps similar neighborhoods that are at least closer to your new job? \n",
    "    \n",
    "    "
   ]
  },
  {
   "cell_type": "code",
   "execution_count": 4,
   "metadata": {},
   "outputs": [
    {
     "name": "stdout",
     "output_type": "stream",
     "text": [
      "Hello Capstone Project Course!\n"
     ]
    }
   ],
   "source": [
    "import pandas as pd\n",
    "import numpy as np\n",
    "print(\"Hello Capstone Project Course!\")"
   ]
  },
  {
   "cell_type": "markdown",
   "metadata": {},
   "source": [
    "## Segmenting and Clustering Neighborhoods in Toronto \n",
    "In this section we will use python to build the code to scrape the following Wikipedia page, [Canada Postal codes wikipage] (https://en.wikipedia.org/wiki/List_of_postal_codes_of_Canada:_M) in order to obtain the data that is in the table of postal codes and to transform the data into a pandas dataframe like the one shown below:\n",
    "\n",
    "![Canada Poscode dataframe](https://d3c33hcgiwev3.cloudfront.net/imageAssetProxy.v1/7JXaz3NNEeiMwApe4i-fLg_40e690ae0e927abda2d4bde7d94ed133_Screen-Shot-2018-06-18-at-7.17.57-PM.png?expiry=1595808000000&hmac=bYKFuDpdYNLPWJeo4atpL0MwtseersdLFWjHL93QZdU)"
   ]
  },
  {
   "cell_type": "markdown",
   "metadata": {},
   "source": [
    "---\n",
    "### Part 1 - Import and Process Dataset\n",
    "#### Library import"
   ]
  },
  {
   "cell_type": "code",
   "execution_count": 79,
   "metadata": {},
   "outputs": [
    {
     "name": "stdout",
     "output_type": "stream",
     "text": [
      "Requirement already satisfied: geopy in /Users/ericfrugier/.local/share/virtualenvs/ericfrugier-dijWyJe1/lib/python3.8/site-packages (2.0.0)\n",
      "Requirement already satisfied: geographiclib<2,>=1.49 in /Users/ericfrugier/.local/share/virtualenvs/ericfrugier-dijWyJe1/lib/python3.8/site-packages (from geopy) (1.50)\n",
      "Requirement already satisfied: sklearn in /Users/ericfrugier/.local/share/virtualenvs/ericfrugier-dijWyJe1/lib/python3.8/site-packages (0.0)\n",
      "Requirement already satisfied: scikit-learn in /Users/ericfrugier/.local/share/virtualenvs/ericfrugier-dijWyJe1/lib/python3.8/site-packages (from sklearn) (0.23.1)\n",
      "Requirement already satisfied: threadpoolctl>=2.0.0 in /Users/ericfrugier/.local/share/virtualenvs/ericfrugier-dijWyJe1/lib/python3.8/site-packages (from scikit-learn->sklearn) (2.1.0)\n",
      "Requirement already satisfied: numpy>=1.13.3 in /Users/ericfrugier/.local/share/virtualenvs/ericfrugier-dijWyJe1/lib/python3.8/site-packages (from scikit-learn->sklearn) (1.19.0)\n",
      "Requirement already satisfied: scipy>=0.19.1 in /Users/ericfrugier/.local/share/virtualenvs/ericfrugier-dijWyJe1/lib/python3.8/site-packages (from scikit-learn->sklearn) (1.5.1)\n",
      "Requirement already satisfied: joblib>=0.11 in /Users/ericfrugier/.local/share/virtualenvs/ericfrugier-dijWyJe1/lib/python3.8/site-packages (from scikit-learn->sklearn) (0.16.0)\n",
      "Requirement already satisfied: folium in /Users/ericfrugier/.local/share/virtualenvs/ericfrugier-dijWyJe1/lib/python3.8/site-packages (0.11.0)\n",
      "Requirement already satisfied: requests in /Users/ericfrugier/.local/share/virtualenvs/ericfrugier-dijWyJe1/lib/python3.8/site-packages (from folium) (2.24.0)\n",
      "Requirement already satisfied: branca>=0.3.0 in /Users/ericfrugier/.local/share/virtualenvs/ericfrugier-dijWyJe1/lib/python3.8/site-packages (from folium) (0.4.1)\n",
      "Requirement already satisfied: numpy in /Users/ericfrugier/.local/share/virtualenvs/ericfrugier-dijWyJe1/lib/python3.8/site-packages (from folium) (1.19.0)\n",
      "Requirement already satisfied: jinja2>=2.9 in /Users/ericfrugier/.local/share/virtualenvs/ericfrugier-dijWyJe1/lib/python3.8/site-packages (from folium) (2.11.2)\n",
      "Requirement already satisfied: certifi>=2017.4.17 in /Users/ericfrugier/.local/share/virtualenvs/ericfrugier-dijWyJe1/lib/python3.8/site-packages (from requests->folium) (2020.6.20)\n",
      "Requirement already satisfied: urllib3!=1.25.0,!=1.25.1,<1.26,>=1.21.1 in /Users/ericfrugier/.local/share/virtualenvs/ericfrugier-dijWyJe1/lib/python3.8/site-packages (from requests->folium) (1.25.9)\n",
      "Requirement already satisfied: chardet<4,>=3.0.2 in /Users/ericfrugier/.local/share/virtualenvs/ericfrugier-dijWyJe1/lib/python3.8/site-packages (from requests->folium) (3.0.4)\n",
      "Requirement already satisfied: idna<3,>=2.5 in /Users/ericfrugier/.local/share/virtualenvs/ericfrugier-dijWyJe1/lib/python3.8/site-packages (from requests->folium) (2.10)\n",
      "Requirement already satisfied: MarkupSafe>=0.23 in /Users/ericfrugier/.local/share/virtualenvs/ericfrugier-dijWyJe1/lib/python3.8/site-packages (from jinja2>=2.9->folium) (1.1.1)\n",
      "Requirement already satisfied: bs4 in /Users/ericfrugier/.local/share/virtualenvs/ericfrugier-dijWyJe1/lib/python3.8/site-packages (0.0.1)\n",
      "Requirement already satisfied: beautifulsoup4 in /Users/ericfrugier/.local/share/virtualenvs/ericfrugier-dijWyJe1/lib/python3.8/site-packages (from bs4) (4.9.1)\n",
      "Requirement already satisfied: soupsieve>1.2 in /Users/ericfrugier/.local/share/virtualenvs/ericfrugier-dijWyJe1/lib/python3.8/site-packages (from beautifulsoup4->bs4) (2.0.1)\n",
      "Libraries imported.\n"
     ]
    }
   ],
   "source": [
    "import numpy as np # library to handle data in a vectorized manner\n",
    "\n",
    "import pandas as pd # library for data analsysis\n",
    "pd.set_option('display.max_columns', None)\n",
    "pd.set_option('display.max_rows', None)\n",
    "\n",
    "import json # library to handle JSON files\n",
    "\n",
    "!pip3 install  geopy \n",
    "from geopy.geocoders import Nominatim # convert an address into latitude and longitude values\n",
    "\n",
    "import requests # library to handle requests\n",
    "from pandas.io.json import json_normalize # tranform JSON file into a pandas dataframe\n",
    "\n",
    "# Matplotlib and associated plotting modules\n",
    "import matplotlib.cm as cm\n",
    "import matplotlib.colors as colors\n",
    "\n",
    "# import k-means from clustering stage\n",
    "!pip3 install  sklearn \n",
    "from sklearn.cluster import KMeans\n",
    "\n",
    "!pip3 install folium\n",
    "import folium # map rendering library\n",
    "\n",
    "!pip3 install bs4\n",
    "from bs4 import BeautifulSoup\n",
    "import requests\n",
    "from bs4 import BeautifulSoup as bs\n",
    "\n",
    "print('Libraries imported.')"
   ]
  },
  {
   "cell_type": "markdown",
   "metadata": {},
   "source": [
    "#### scrap data from wikipedia"
   ]
  },
  {
   "cell_type": "code",
   "execution_count": 85,
   "metadata": {},
   "outputs": [
    {
     "name": "stdout",
     "output_type": "stream",
     "text": [
      "Requirement already satisfied: lxml in /Users/ericfrugier/.local/share/virtualenvs/ericfrugier-dijWyJe1/lib/python3.8/site-packages (4.5.2)\n"
     ]
    }
   ],
   "source": [
    "!pip3 install lxml\n",
    "import lxml\n",
    "import pandas as pd\n",
    "\n",
    "Toronto_df = pd.read_html(\"https://en.wikipedia.org/wiki/List_of_postal_codes_of_Canada:_M\", header=0, attrs={\"class\":\"wikitable sortable\"})[0]"
   ]
  },
  {
   "cell_type": "markdown",
   "metadata": {},
   "source": [
    "**RAW DATA**"
   ]
  },
  {
   "cell_type": "code",
   "execution_count": 86,
   "metadata": {},
   "outputs": [
    {
     "name": "stdout",
     "output_type": "stream",
     "text": [
      "Dataset size: (180, 3)\n"
     ]
    },
    {
     "data": {
      "text/html": [
       "<div>\n",
       "<style scoped>\n",
       "    .dataframe tbody tr th:only-of-type {\n",
       "        vertical-align: middle;\n",
       "    }\n",
       "\n",
       "    .dataframe tbody tr th {\n",
       "        vertical-align: top;\n",
       "    }\n",
       "\n",
       "    .dataframe thead th {\n",
       "        text-align: right;\n",
       "    }\n",
       "</style>\n",
       "<table border=\"1\" class=\"dataframe\">\n",
       "  <thead>\n",
       "    <tr style=\"text-align: right;\">\n",
       "      <th></th>\n",
       "      <th>Postal Code</th>\n",
       "      <th>Borough</th>\n",
       "      <th>Neighbourhood</th>\n",
       "    </tr>\n",
       "  </thead>\n",
       "  <tbody>\n",
       "    <tr>\n",
       "      <th>0</th>\n",
       "      <td>M1A</td>\n",
       "      <td>Not assigned</td>\n",
       "      <td>Not assigned</td>\n",
       "    </tr>\n",
       "    <tr>\n",
       "      <th>1</th>\n",
       "      <td>M2A</td>\n",
       "      <td>Not assigned</td>\n",
       "      <td>Not assigned</td>\n",
       "    </tr>\n",
       "    <tr>\n",
       "      <th>2</th>\n",
       "      <td>M3A</td>\n",
       "      <td>North York</td>\n",
       "      <td>Parkwoods</td>\n",
       "    </tr>\n",
       "    <tr>\n",
       "      <th>3</th>\n",
       "      <td>M4A</td>\n",
       "      <td>North York</td>\n",
       "      <td>Victoria Village</td>\n",
       "    </tr>\n",
       "    <tr>\n",
       "      <th>4</th>\n",
       "      <td>M5A</td>\n",
       "      <td>Downtown Toronto</td>\n",
       "      <td>Regent Park, Harbourfront</td>\n",
       "    </tr>\n",
       "  </tbody>\n",
       "</table>\n",
       "</div>"
      ],
      "text/plain": [
       "  Postal Code           Borough              Neighbourhood\n",
       "0         M1A      Not assigned               Not assigned\n",
       "1         M2A      Not assigned               Not assigned\n",
       "2         M3A        North York                  Parkwoods\n",
       "3         M4A        North York           Victoria Village\n",
       "4         M5A  Downtown Toronto  Regent Park, Harbourfront"
      ]
     },
     "metadata": {},
     "output_type": "display_data"
    }
   ],
   "source": [
    "print (\"Dataset size:\",Toronto_df.shape)\n",
    "display(Toronto_df.head())"
   ]
  },
  {
   "cell_type": "markdown",
   "metadata": {},
   "source": [
    "**PROCESS DATA**"
   ]
  },
  {
   "cell_type": "code",
   "execution_count": 87,
   "metadata": {},
   "outputs": [
    {
     "data": {
      "text/html": [
       "<div>\n",
       "<style scoped>\n",
       "    .dataframe tbody tr th:only-of-type {\n",
       "        vertical-align: middle;\n",
       "    }\n",
       "\n",
       "    .dataframe tbody tr th {\n",
       "        vertical-align: top;\n",
       "    }\n",
       "\n",
       "    .dataframe thead th {\n",
       "        text-align: right;\n",
       "    }\n",
       "</style>\n",
       "<table border=\"1\" class=\"dataframe\">\n",
       "  <thead>\n",
       "    <tr style=\"text-align: right;\">\n",
       "      <th></th>\n",
       "      <th>PostalCode</th>\n",
       "      <th>Borough</th>\n",
       "      <th>Neighbourhood</th>\n",
       "    </tr>\n",
       "  </thead>\n",
       "  <tbody>\n",
       "    <tr>\n",
       "      <th>0</th>\n",
       "      <td>M1B</td>\n",
       "      <td>Scarborough</td>\n",
       "      <td>Malvern, Rouge</td>\n",
       "    </tr>\n",
       "    <tr>\n",
       "      <th>1</th>\n",
       "      <td>M1C</td>\n",
       "      <td>Scarborough</td>\n",
       "      <td>Rouge Hill, Port Union, Highland Creek</td>\n",
       "    </tr>\n",
       "    <tr>\n",
       "      <th>2</th>\n",
       "      <td>M1E</td>\n",
       "      <td>Scarborough</td>\n",
       "      <td>Guildwood, Morningside, West Hill</td>\n",
       "    </tr>\n",
       "    <tr>\n",
       "      <th>3</th>\n",
       "      <td>M1G</td>\n",
       "      <td>Scarborough</td>\n",
       "      <td>Woburn</td>\n",
       "    </tr>\n",
       "    <tr>\n",
       "      <th>4</th>\n",
       "      <td>M1H</td>\n",
       "      <td>Scarborough</td>\n",
       "      <td>Cedarbrae</td>\n",
       "    </tr>\n",
       "  </tbody>\n",
       "</table>\n",
       "</div>"
      ],
      "text/plain": [
       "  PostalCode      Borough                           Neighbourhood\n",
       "0        M1B  Scarborough                          Malvern, Rouge\n",
       "1        M1C  Scarborough  Rouge Hill, Port Union, Highland Creek\n",
       "2        M1E  Scarborough       Guildwood, Morningside, West Hill\n",
       "3        M1G  Scarborough                                  Woburn\n",
       "4        M1H  Scarborough                               Cedarbrae"
      ]
     },
     "metadata": {},
     "output_type": "display_data"
    },
    {
     "name": "stdout",
     "output_type": "stream",
     "text": [
      "Size of the DataFrame: (103, 3)\n"
     ]
    }
   ],
   "source": [
    "#lets drop Borough that has cells with 'Not assigned' values\n",
    "Not_assigned = Toronto_df[Toronto_df['Borough'] == 'Not assigned'].index\n",
    "    \n",
    "# Delete these row indexes from dataFrame\n",
    "Toronto_df.drop(Not_assigned , inplace=True)\n",
    "\n",
    "#Change cells that are having 'Not assigned' values in Neighborhood coloumn to equal its corresponding Borough index\n",
    "Toronto_df.loc[Toronto_df['Neighbourhood'] == 'Not assigned', ['Neighbourhood']] = Toronto_df['Borough']\n",
    "\n",
    "#Group Neighborhoods having the same postalcode\n",
    "Toronto_df = Toronto_df.groupby(['Postal Code','Borough'])['Neighbourhood'].apply(', '.join).reset_index()\n",
    "Toronto_df.rename(columns={'Postal Code':'PostalCode'}, inplace=True)\n",
    "display(Toronto_df.head())\n",
    "print('Size of the DataFrame:',Toronto_df.shape)"
   ]
  }
 ],
 "metadata": {
  "kernelspec": {
   "display_name": "Python 3",
   "language": "python",
   "name": "python3"
  },
  "language_info": {
   "codemirror_mode": {
    "name": "ipython",
    "version": 3
   },
   "file_extension": ".py",
   "mimetype": "text/x-python",
   "name": "python",
   "nbconvert_exporter": "python",
   "pygments_lexer": "ipython3",
   "version": "3.8.2"
  }
 },
 "nbformat": 4,
 "nbformat_minor": 4
}
