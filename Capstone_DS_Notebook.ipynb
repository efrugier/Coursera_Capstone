{
 "cells": [
  {
   "cell_type": "markdown",
   "metadata": {},
   "source": [
    "# **IBM DATA SCIENCE CAPSTONE PROJECT**\n",
    "***\n",
    "## **Introduction**\n",
    "    Having completed the Python for data science course, the data visualization with Python course, and finally, the data analysis with Python cours it is now time to complete a capstone project.\n",
    "\n",
    "## Project Objectives\n",
    "    Say  you live on the west side of the city ofToronto in Canada. You love your neighborhood, mainly because of all thegreat amenities and other types of venues that exist in the neighborhood,such as gourmet fast food joints, pharmacies, parks, grad schools and so on.\n",
    "    \n",
    "    Now, say you receive a job offer from a great company on the other side of thecity with great career prospects. \n",
    "    However, given the far distance from your currentplace you  must move if you decide to accept the offer.\n",
    "    \n",
    "    Wouldn't it be great if you're able to determine neighborhoods on the other side of the city that are exactly the same as your current neighborhood or  perhaps similar neighborhoods that are at least closer to your new job? \n",
    "    \n",
    "    "
   ]
  },
  {
   "cell_type": "code",
   "execution_count": 2,
   "metadata": {},
   "outputs": [
    {
     "name": "stdout",
     "output_type": "stream",
     "text": [
      "Hello Capstone Project Course!\n"
     ]
    }
   ],
   "source": [
    "import pandas as pd\n",
    "import numpy as np\n",
    "print(\"Hello Capstone Project Course!\")"
   ]
  },
  {
   "cell_type": "raw",
   "metadata": {},
   "source": []
  }
 ],
 "metadata": {
  "kernelspec": {
   "display_name": "Python 3",
   "language": "python",
   "name": "python3"
  },
  "language_info": {
   "codemirror_mode": {
    "name": "ipython",
    "version": 3
   },
   "file_extension": ".py",
   "mimetype": "text/x-python",
   "name": "python",
   "nbconvert_exporter": "python",
   "pygments_lexer": "ipython3",
   "version": "3.8.2"
  }
 },
 "nbformat": 4,
 "nbformat_minor": 4
}
